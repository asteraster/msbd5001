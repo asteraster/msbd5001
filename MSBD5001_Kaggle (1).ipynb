{
  "nbformat": 4,
  "nbformat_minor": 0,
  "metadata": {
    "colab": {
      "name": "MSBD5001-Kaggle",
      "provenance": []
    },
    "kernelspec": {
      "name": "python3",
      "display_name": "Python 3"
    }
  },
  "cells": [
    {
      "cell_type": "code",
      "metadata": {
        "id": "kn-i92rwU_KF"
      },
      "source": [
        "import pandas as pd\n",
        "import numpy as np"
      ],
      "execution_count": null,
      "outputs": []
    },
    {
      "cell_type": "code",
      "metadata": {
        "id": "mfwjeFM1VR_Y",
        "colab": {
          "base_uri": "https://localhost:8080/",
          "height": 444
        },
        "outputId": "a658194a-dbd4-48bb-ac80-e873d49f41d1"
      },
      "source": [
        "trainDataframe = pd.read_csv(\"/content/train.csv\")\n",
        "trainDataframe = trainDataframe.set_index(\"id\")\n",
        "trainDataframe"
      ],
      "execution_count": null,
      "outputs": [
        {
          "output_type": "execute_result",
          "data": {
            "text/html": [
              "<div>\n",
              "<style scoped>\n",
              "    .dataframe tbody tr th:only-of-type {\n",
              "        vertical-align: middle;\n",
              "    }\n",
              "\n",
              "    .dataframe tbody tr th {\n",
              "        vertical-align: top;\n",
              "    }\n",
              "\n",
              "    .dataframe thead th {\n",
              "        text-align: right;\n",
              "    }\n",
              "</style>\n",
              "<table border=\"1\" class=\"dataframe\">\n",
              "  <thead>\n",
              "    <tr style=\"text-align: right;\">\n",
              "      <th></th>\n",
              "      <th>date</th>\n",
              "      <th>speed</th>\n",
              "    </tr>\n",
              "    <tr>\n",
              "      <th>id</th>\n",
              "      <th></th>\n",
              "      <th></th>\n",
              "    </tr>\n",
              "  </thead>\n",
              "  <tbody>\n",
              "    <tr>\n",
              "      <th>0</th>\n",
              "      <td>1/1/2017 0:00</td>\n",
              "      <td>43.002930</td>\n",
              "    </tr>\n",
              "    <tr>\n",
              "      <th>1</th>\n",
              "      <td>1/1/2017 1:00</td>\n",
              "      <td>46.118696</td>\n",
              "    </tr>\n",
              "    <tr>\n",
              "      <th>2</th>\n",
              "      <td>1/1/2017 2:00</td>\n",
              "      <td>44.294158</td>\n",
              "    </tr>\n",
              "    <tr>\n",
              "      <th>3</th>\n",
              "      <td>1/1/2017 3:00</td>\n",
              "      <td>41.067468</td>\n",
              "    </tr>\n",
              "    <tr>\n",
              "      <th>4</th>\n",
              "      <td>1/1/2017 4:00</td>\n",
              "      <td>46.448653</td>\n",
              "    </tr>\n",
              "    <tr>\n",
              "      <th>...</th>\n",
              "      <td>...</td>\n",
              "      <td>...</td>\n",
              "    </tr>\n",
              "    <tr>\n",
              "      <th>14001</th>\n",
              "      <td>31/12/2018 12:00</td>\n",
              "      <td>19.865269</td>\n",
              "    </tr>\n",
              "    <tr>\n",
              "      <th>14002</th>\n",
              "      <td>31/12/2018 15:00</td>\n",
              "      <td>17.820375</td>\n",
              "    </tr>\n",
              "    <tr>\n",
              "      <th>14003</th>\n",
              "      <td>31/12/2018 16:00</td>\n",
              "      <td>12.501851</td>\n",
              "    </tr>\n",
              "    <tr>\n",
              "      <th>14004</th>\n",
              "      <td>31/12/2018 18:00</td>\n",
              "      <td>15.979319</td>\n",
              "    </tr>\n",
              "    <tr>\n",
              "      <th>14005</th>\n",
              "      <td>31/12/2018 20:00</td>\n",
              "      <td>40.594183</td>\n",
              "    </tr>\n",
              "  </tbody>\n",
              "</table>\n",
              "<p>14006 rows × 2 columns</p>\n",
              "</div>"
            ],
            "text/plain": [
              "                   date      speed\n",
              "id                                \n",
              "0         1/1/2017 0:00  43.002930\n",
              "1         1/1/2017 1:00  46.118696\n",
              "2         1/1/2017 2:00  44.294158\n",
              "3         1/1/2017 3:00  41.067468\n",
              "4         1/1/2017 4:00  46.448653\n",
              "...                 ...        ...\n",
              "14001  31/12/2018 12:00  19.865269\n",
              "14002  31/12/2018 15:00  17.820375\n",
              "14003  31/12/2018 16:00  12.501851\n",
              "14004  31/12/2018 18:00  15.979319\n",
              "14005  31/12/2018 20:00  40.594183\n",
              "\n",
              "[14006 rows x 2 columns]"
            ]
          },
          "metadata": {
            "tags": []
          },
          "execution_count": 8
        }
      ]
    },
    {
      "cell_type": "code",
      "metadata": {
        "id": "8znVKZdiW482"
      },
      "source": [
        "trainDataframe['date']=pd.to_datetime(trainDataframe['date'])\n",
        "# convert string to date type"
      ],
      "execution_count": null,
      "outputs": []
    },
    {
      "cell_type": "code",
      "metadata": {
        "id": "k4hNDuZ5VbrD"
      },
      "source": [
        "trainDataframe['year']=trainDataframe.date.dt.year\n",
        "trainDataframe['month']=trainDataframe.date.dt.month\n",
        "trainDataframe['day']=trainDataframe.date.dt.day\n",
        "trainDataframe['weekday']=trainDataframe.date.dt.weekday\n",
        "trainDataframe['hour']=trainDataframe.date.dt.hour\n",
        "features=[\"year\",\"month\"\"day\",\"weekday\",\"hour\"]"
      ],
      "execution_count": null,
      "outputs": []
    },
    {
      "cell_type": "code",
      "metadata": {
        "id": "QHQKkAARXUqw",
        "colab": {
          "base_uri": "https://localhost:8080/",
          "height": 444
        },
        "outputId": "02ed6694-cd7f-493b-ca73-6bb18d07d609"
      },
      "source": [
        "trainDataframe.sort_values(by=\"speed\", ascending=False)\n",
        "### normally 1:00 has a higher speed in avg and 17：00 &18：00 has slower speed in average\n",
        "### it implies 2 message 17:00&18:00 are peak hour and there is a traffic jam "
      ],
      "execution_count": null,
      "outputs": [
        {
          "output_type": "execute_result",
          "data": {
            "text/html": [
              "<div>\n",
              "<style scoped>\n",
              "    .dataframe tbody tr th:only-of-type {\n",
              "        vertical-align: middle;\n",
              "    }\n",
              "\n",
              "    .dataframe tbody tr th {\n",
              "        vertical-align: top;\n",
              "    }\n",
              "\n",
              "    .dataframe thead th {\n",
              "        text-align: right;\n",
              "    }\n",
              "</style>\n",
              "<table border=\"1\" class=\"dataframe\">\n",
              "  <thead>\n",
              "    <tr style=\"text-align: right;\">\n",
              "      <th></th>\n",
              "      <th>date</th>\n",
              "      <th>speed</th>\n",
              "      <th>year</th>\n",
              "      <th>month</th>\n",
              "      <th>day</th>\n",
              "      <th>weekday</th>\n",
              "      <th>hour</th>\n",
              "    </tr>\n",
              "    <tr>\n",
              "      <th>id</th>\n",
              "      <th></th>\n",
              "      <th></th>\n",
              "      <th></th>\n",
              "      <th></th>\n",
              "      <th></th>\n",
              "      <th></th>\n",
              "      <th></th>\n",
              "    </tr>\n",
              "  </thead>\n",
              "  <tbody>\n",
              "    <tr>\n",
              "      <th>976</th>\n",
              "      <td>2017-11-02 01:00:00</td>\n",
              "      <td>53.161286</td>\n",
              "      <td>2017</td>\n",
              "      <td>11</td>\n",
              "      <td>2</td>\n",
              "      <td>3</td>\n",
              "      <td>1</td>\n",
              "    </tr>\n",
              "    <tr>\n",
              "      <th>405</th>\n",
              "      <td>2017-01-18 01:00:00</td>\n",
              "      <td>52.407338</td>\n",
              "      <td>2017</td>\n",
              "      <td>1</td>\n",
              "      <td>18</td>\n",
              "      <td>2</td>\n",
              "      <td>1</td>\n",
              "    </tr>\n",
              "    <tr>\n",
              "      <th>8631</th>\n",
              "      <td>2017-12-27 01:00:00</td>\n",
              "      <td>52.366762</td>\n",
              "      <td>2017</td>\n",
              "      <td>12</td>\n",
              "      <td>27</td>\n",
              "      <td>2</td>\n",
              "      <td>1</td>\n",
              "    </tr>\n",
              "    <tr>\n",
              "      <th>8583</th>\n",
              "      <td>2017-12-25 01:00:00</td>\n",
              "      <td>52.313519</td>\n",
              "      <td>2017</td>\n",
              "      <td>12</td>\n",
              "      <td>25</td>\n",
              "      <td>0</td>\n",
              "      <td>1</td>\n",
              "    </tr>\n",
              "    <tr>\n",
              "      <th>8821</th>\n",
              "      <td>2018-06-01 01:00:00</td>\n",
              "      <td>52.207573</td>\n",
              "      <td>2018</td>\n",
              "      <td>6</td>\n",
              "      <td>1</td>\n",
              "      <td>4</td>\n",
              "      <td>1</td>\n",
              "    </tr>\n",
              "    <tr>\n",
              "      <th>...</th>\n",
              "      <td>...</td>\n",
              "      <td>...</td>\n",
              "      <td>...</td>\n",
              "      <td>...</td>\n",
              "      <td>...</td>\n",
              "      <td>...</td>\n",
              "      <td>...</td>\n",
              "    </tr>\n",
              "    <tr>\n",
              "      <th>12287</th>\n",
              "      <td>2018-08-28 17:00:00</td>\n",
              "      <td>5.019051</td>\n",
              "      <td>2018</td>\n",
              "      <td>8</td>\n",
              "      <td>28</td>\n",
              "      <td>1</td>\n",
              "      <td>17</td>\n",
              "    </tr>\n",
              "    <tr>\n",
              "      <th>3896</th>\n",
              "      <td>2017-12-06 17:00:00</td>\n",
              "      <td>4.784311</td>\n",
              "      <td>2017</td>\n",
              "      <td>12</td>\n",
              "      <td>6</td>\n",
              "      <td>2</td>\n",
              "      <td>17</td>\n",
              "    </tr>\n",
              "    <tr>\n",
              "      <th>8504</th>\n",
              "      <td>2017-12-21 18:00:00</td>\n",
              "      <td>4.508190</td>\n",
              "      <td>2017</td>\n",
              "      <td>12</td>\n",
              "      <td>21</td>\n",
              "      <td>3</td>\n",
              "      <td>18</td>\n",
              "    </tr>\n",
              "    <tr>\n",
              "      <th>12033</th>\n",
              "      <td>2018-10-08 17:00:00</td>\n",
              "      <td>3.631094</td>\n",
              "      <td>2018</td>\n",
              "      <td>10</td>\n",
              "      <td>8</td>\n",
              "      <td>0</td>\n",
              "      <td>17</td>\n",
              "    </tr>\n",
              "    <tr>\n",
              "      <th>12552</th>\n",
              "      <td>2018-09-16 14:00:00</td>\n",
              "      <td>2.573417</td>\n",
              "      <td>2018</td>\n",
              "      <td>9</td>\n",
              "      <td>16</td>\n",
              "      <td>6</td>\n",
              "      <td>14</td>\n",
              "    </tr>\n",
              "  </tbody>\n",
              "</table>\n",
              "<p>14006 rows × 7 columns</p>\n",
              "</div>"
            ],
            "text/plain": [
              "                     date      speed  year  month  day  weekday  hour\n",
              "id                                                                   \n",
              "976   2017-11-02 01:00:00  53.161286  2017     11    2        3     1\n",
              "405   2017-01-18 01:00:00  52.407338  2017      1   18        2     1\n",
              "8631  2017-12-27 01:00:00  52.366762  2017     12   27        2     1\n",
              "8583  2017-12-25 01:00:00  52.313519  2017     12   25        0     1\n",
              "8821  2018-06-01 01:00:00  52.207573  2018      6    1        4     1\n",
              "...                   ...        ...   ...    ...  ...      ...   ...\n",
              "12287 2018-08-28 17:00:00   5.019051  2018      8   28        1    17\n",
              "3896  2017-12-06 17:00:00   4.784311  2017     12    6        2    17\n",
              "8504  2017-12-21 18:00:00   4.508190  2017     12   21        3    18\n",
              "12033 2018-10-08 17:00:00   3.631094  2018     10    8        0    17\n",
              "12552 2018-09-16 14:00:00   2.573417  2018      9   16        6    14\n",
              "\n",
              "[14006 rows x 7 columns]"
            ]
          },
          "metadata": {
            "tags": []
          },
          "execution_count": 16
        }
      ]
    },
    {
      "cell_type": "code",
      "metadata": {
        "id": "vYPYg5t6PWuY",
        "colab": {
          "base_uri": "https://localhost:8080/",
          "height": 444
        },
        "outputId": "de4a554d-6ef8-47a5-b26a-02d861154845"
      },
      "source": [
        "pd.get_dummies(trainDataframe[[\"year\",\"month\", \"day\",\"weekday\",\"hour\"]])"
      ],
      "execution_count": null,
      "outputs": [
        {
          "output_type": "execute_result",
          "data": {
            "text/html": [
              "<div>\n",
              "<style scoped>\n",
              "    .dataframe tbody tr th:only-of-type {\n",
              "        vertical-align: middle;\n",
              "    }\n",
              "\n",
              "    .dataframe tbody tr th {\n",
              "        vertical-align: top;\n",
              "    }\n",
              "\n",
              "    .dataframe thead th {\n",
              "        text-align: right;\n",
              "    }\n",
              "</style>\n",
              "<table border=\"1\" class=\"dataframe\">\n",
              "  <thead>\n",
              "    <tr style=\"text-align: right;\">\n",
              "      <th></th>\n",
              "      <th>year</th>\n",
              "      <th>month</th>\n",
              "      <th>day</th>\n",
              "      <th>weekday</th>\n",
              "      <th>hour</th>\n",
              "    </tr>\n",
              "    <tr>\n",
              "      <th>id</th>\n",
              "      <th></th>\n",
              "      <th></th>\n",
              "      <th></th>\n",
              "      <th></th>\n",
              "      <th></th>\n",
              "    </tr>\n",
              "  </thead>\n",
              "  <tbody>\n",
              "    <tr>\n",
              "      <th>0</th>\n",
              "      <td>2017</td>\n",
              "      <td>1</td>\n",
              "      <td>1</td>\n",
              "      <td>6</td>\n",
              "      <td>0</td>\n",
              "    </tr>\n",
              "    <tr>\n",
              "      <th>1</th>\n",
              "      <td>2017</td>\n",
              "      <td>1</td>\n",
              "      <td>1</td>\n",
              "      <td>6</td>\n",
              "      <td>1</td>\n",
              "    </tr>\n",
              "    <tr>\n",
              "      <th>2</th>\n",
              "      <td>2017</td>\n",
              "      <td>1</td>\n",
              "      <td>1</td>\n",
              "      <td>6</td>\n",
              "      <td>2</td>\n",
              "    </tr>\n",
              "    <tr>\n",
              "      <th>3</th>\n",
              "      <td>2017</td>\n",
              "      <td>1</td>\n",
              "      <td>1</td>\n",
              "      <td>6</td>\n",
              "      <td>3</td>\n",
              "    </tr>\n",
              "    <tr>\n",
              "      <th>4</th>\n",
              "      <td>2017</td>\n",
              "      <td>1</td>\n",
              "      <td>1</td>\n",
              "      <td>6</td>\n",
              "      <td>4</td>\n",
              "    </tr>\n",
              "    <tr>\n",
              "      <th>...</th>\n",
              "      <td>...</td>\n",
              "      <td>...</td>\n",
              "      <td>...</td>\n",
              "      <td>...</td>\n",
              "      <td>...</td>\n",
              "    </tr>\n",
              "    <tr>\n",
              "      <th>14001</th>\n",
              "      <td>2018</td>\n",
              "      <td>12</td>\n",
              "      <td>31</td>\n",
              "      <td>0</td>\n",
              "      <td>12</td>\n",
              "    </tr>\n",
              "    <tr>\n",
              "      <th>14002</th>\n",
              "      <td>2018</td>\n",
              "      <td>12</td>\n",
              "      <td>31</td>\n",
              "      <td>0</td>\n",
              "      <td>15</td>\n",
              "    </tr>\n",
              "    <tr>\n",
              "      <th>14003</th>\n",
              "      <td>2018</td>\n",
              "      <td>12</td>\n",
              "      <td>31</td>\n",
              "      <td>0</td>\n",
              "      <td>16</td>\n",
              "    </tr>\n",
              "    <tr>\n",
              "      <th>14004</th>\n",
              "      <td>2018</td>\n",
              "      <td>12</td>\n",
              "      <td>31</td>\n",
              "      <td>0</td>\n",
              "      <td>18</td>\n",
              "    </tr>\n",
              "    <tr>\n",
              "      <th>14005</th>\n",
              "      <td>2018</td>\n",
              "      <td>12</td>\n",
              "      <td>31</td>\n",
              "      <td>0</td>\n",
              "      <td>20</td>\n",
              "    </tr>\n",
              "  </tbody>\n",
              "</table>\n",
              "<p>14006 rows × 5 columns</p>\n",
              "</div>"
            ],
            "text/plain": [
              "       year  month  day  weekday  hour\n",
              "id                                    \n",
              "0      2017      1    1        6     0\n",
              "1      2017      1    1        6     1\n",
              "2      2017      1    1        6     2\n",
              "3      2017      1    1        6     3\n",
              "4      2017      1    1        6     4\n",
              "...     ...    ...  ...      ...   ...\n",
              "14001  2018     12   31        0    12\n",
              "14002  2018     12   31        0    15\n",
              "14003  2018     12   31        0    16\n",
              "14004  2018     12   31        0    18\n",
              "14005  2018     12   31        0    20\n",
              "\n",
              "[14006 rows x 5 columns]"
            ]
          },
          "metadata": {
            "tags": []
          },
          "execution_count": 17
        }
      ]
    },
    {
      "cell_type": "code",
      "metadata": {
        "id": "ce6IrbY6SIl4",
        "colab": {
          "base_uri": "https://localhost:8080/"
        },
        "outputId": "0a466654-9127-4d62-db21-0f18f1eda3f5"
      },
      "source": [
        "from sklearn import linear_model\n",
        "reg1 = linear_model.LinearRegression()\n",
        "reg1.fit(trainDataframe[[\"year\",\"month\",\"day\",\"weekday\",\"hour\"]],trainDataframe[\"speed\"])\n",
        "reg1.predict(trainDataframe[[\"year\",\"month\",\"day\",\"weekday\",\"hour\"]])"
      ],
      "execution_count": null,
      "outputs": [
        {
          "output_type": "execute_result",
          "data": {
            "text/plain": [
              "array([44.80303875, 44.03871463, 43.27439052, ..., 26.23546618,\n",
              "       24.70681795, 23.17816972])"
            ]
          },
          "metadata": {
            "tags": []
          },
          "execution_count": 33
        }
      ]
    },
    {
      "cell_type": "code",
      "metadata": {
        "id": "tg5x4DCCUPNp",
        "colab": {
          "base_uri": "https://localhost:8080/"
        },
        "outputId": "1918353e-658b-4716-8096-6c88276f7316"
      },
      "source": [
        "from sklearn import neighbors\n",
        "import numpy as np\n",
        "reg2 = neighbors.KNeighborsRegressor()\n",
        "reg2.fit(trainDataframe[[\"year\",\"month\",\"day\",\"weekday\",\"hour\"]],trainDataframe[\"speed\"])\n",
        "reg2.predict(trainDataframe[[\"year\",\"month\",\"day\",\"weekday\",\"hour\"]])"
      ],
      "execution_count": null,
      "outputs": [
        {
          "output_type": "execute_result",
          "data": {
            "text/plain": [
              "array([46.77437629, 44.57747355, 44.18638093, ..., 14.55335157,\n",
              "       16.9269408 , 34.3754746 ])"
            ]
          },
          "metadata": {
            "tags": []
          },
          "execution_count": 34
        }
      ]
    },
    {
      "cell_type": "code",
      "metadata": {
        "id": "KeNEpnE8XDu0",
        "colab": {
          "base_uri": "https://localhost:8080/"
        },
        "outputId": "8f4f0005-56fa-4531-a0f3-d2e107f234ab"
      },
      "source": [
        "from sklearn.model_selection import cross_val_score\n",
        "cross_val_score(reg1,trainDataframe[[\"year\",\"month\",\"day\",\"weekday\",\"hour\"]],trainDataframe[\"speed\"])\n",
        "\n"
      ],
      "execution_count": null,
      "outputs": [
        {
          "output_type": "execute_result",
          "data": {
            "text/plain": [
              "array([0.16178117, 0.17432635, 0.16832253, 0.14889792, 0.16083569])"
            ]
          },
          "metadata": {
            "tags": []
          },
          "execution_count": 44
        }
      ]
    },
    {
      "cell_type": "code",
      "metadata": {
        "id": "ZCdirlCKZdWz",
        "colab": {
          "base_uri": "https://localhost:8080/"
        },
        "outputId": "dc942da9-9526-4b72-c3a9-bf01d114c3b2"
      },
      "source": [
        "cross_val_score(reg1,trainDataframe[[\"year\",\"month\",\"day\",\"weekday\",\"hour\"]],trainDataframe[\"speed\"], scoring='neg_mean_squared_error')"
      ],
      "execution_count": null,
      "outputs": [
        {
          "output_type": "execute_result",
          "data": {
            "text/plain": [
              "array([-148.38877625, -151.94113382, -165.80505619, -150.54016325,\n",
              "       -152.696294  ])"
            ]
          },
          "metadata": {
            "tags": []
          },
          "execution_count": 49
        }
      ]
    },
    {
      "cell_type": "code",
      "metadata": {
        "id": "zQ630WJsYQR8",
        "colab": {
          "base_uri": "https://localhost:8080/"
        },
        "outputId": "83ab3091-b62a-43ae-fd19-e7147b710ebc"
      },
      "source": [
        "cross_val_score(reg2,trainDataframe[[\"year\",\"month\",\"day\",\"weekday\",\"hour\"]],trainDataframe[\"speed\"], scoring='neg_mean_squared_error'])"
      ],
      "execution_count": null,
      "outputs": [
        {
          "output_type": "execute_result",
          "data": {
            "text/plain": [
              "array([-54.54186693, -52.68962385, -55.6669251 , -51.85024273,\n",
              "       -49.12635372])"
            ]
          },
          "metadata": {
            "tags": []
          },
          "execution_count": 41
        }
      ]
    },
    {
      "cell_type": "code",
      "metadata": {
        "id": "x8IivnXNZ33B"
      },
      "source": [
        "from sklearn.model_selection import train_test_split"
      ],
      "execution_count": null,
      "outputs": []
    },
    {
      "cell_type": "code",
      "metadata": {
        "id": "nBJagBPqaQWN"
      },
      "source": [
        "X_train, X_test, y_train, y_test = train_test_split(\n",
        "    trainDataframe[[\"year\",\"month\",\"day\",\"weekday\",\"hour\"]], trainDataframe[\"speed\"], test_size=0.2, random_state=1)\n",
        "print(len(X_train))\n",
        "print(len(X_test))"
      ],
      "execution_count": null,
      "outputs": []
    },
    {
      "cell_type": "code",
      "metadata": {
        "id": "33WbUM3LaQwy",
        "colab": {
          "base_uri": "https://localhost:8080/"
        },
        "outputId": "e9697f6d-cfec-435b-f14e-9a3897f32af0"
      },
      "source": [
        "reg2.fit(X_train, y_train)\n",
        "predict_y = reg2.predict(X_test)\n",
        "print(\"training accuracy:\", ((predict_y-y_test)**2).sum()/ len(predict_y))\n",
        "#RMSE"
      ],
      "execution_count": null,
      "outputs": [
        {
          "output_type": "stream",
          "text": [
            "training accuracy: 37.42446851556807\n"
          ],
          "name": "stdout"
        }
      ]
    },
    {
      "cell_type": "code",
      "metadata": {
        "id": "-NakuS__gzLL"
      },
      "source": [
        "predict_y = reg2.predict(/content/test.csv)\n",
        "print(\"training accuracy:\", ((predict_y-y_test)**2).sum()/ len(predict_y))\n",
        "#RMSE"
      ],
      "execution_count": null,
      "outputs": []
    },
    {
      "cell_type": "code",
      "metadata": {
        "id": "_XR6E8YtePrr"
      },
      "source": [
        "testDataframe = pd.read_csv(\"test.csv\")"
      ],
      "execution_count": null,
      "outputs": []
    },
    {
      "cell_type": "code",
      "metadata": {
        "id": "O96rvYnKf7vO",
        "colab": {
          "base_uri": "https://localhost:8080/",
          "height": 413
        },
        "outputId": "2fc535c0-6e4b-4a98-b1e1-3a49fb32b119"
      },
      "source": [
        "testDataframe"
      ],
      "execution_count": null,
      "outputs": [
        {
          "output_type": "execute_result",
          "data": {
            "text/html": [
              "<div>\n",
              "<style scoped>\n",
              "    .dataframe tbody tr th:only-of-type {\n",
              "        vertical-align: middle;\n",
              "    }\n",
              "\n",
              "    .dataframe tbody tr th {\n",
              "        vertical-align: top;\n",
              "    }\n",
              "\n",
              "    .dataframe thead th {\n",
              "        text-align: right;\n",
              "    }\n",
              "</style>\n",
              "<table border=\"1\" class=\"dataframe\">\n",
              "  <thead>\n",
              "    <tr style=\"text-align: right;\">\n",
              "      <th></th>\n",
              "      <th>id</th>\n",
              "      <th>date</th>\n",
              "    </tr>\n",
              "  </thead>\n",
              "  <tbody>\n",
              "    <tr>\n",
              "      <th>0</th>\n",
              "      <td>0</td>\n",
              "      <td>1/1/2018 2:00</td>\n",
              "    </tr>\n",
              "    <tr>\n",
              "      <th>1</th>\n",
              "      <td>1</td>\n",
              "      <td>1/1/2018 5:00</td>\n",
              "    </tr>\n",
              "    <tr>\n",
              "      <th>2</th>\n",
              "      <td>2</td>\n",
              "      <td>1/1/2018 7:00</td>\n",
              "    </tr>\n",
              "    <tr>\n",
              "      <th>3</th>\n",
              "      <td>3</td>\n",
              "      <td>1/1/2018 8:00</td>\n",
              "    </tr>\n",
              "    <tr>\n",
              "      <th>4</th>\n",
              "      <td>4</td>\n",
              "      <td>1/1/2018 10:00</td>\n",
              "    </tr>\n",
              "    <tr>\n",
              "      <th>...</th>\n",
              "      <td>...</td>\n",
              "      <td>...</td>\n",
              "    </tr>\n",
              "    <tr>\n",
              "      <th>3499</th>\n",
              "      <td>3499</td>\n",
              "      <td>31/12/2018 17:00</td>\n",
              "    </tr>\n",
              "    <tr>\n",
              "      <th>3500</th>\n",
              "      <td>3500</td>\n",
              "      <td>31/12/2018 19:00</td>\n",
              "    </tr>\n",
              "    <tr>\n",
              "      <th>3501</th>\n",
              "      <td>3501</td>\n",
              "      <td>31/12/2018 21:00</td>\n",
              "    </tr>\n",
              "    <tr>\n",
              "      <th>3502</th>\n",
              "      <td>3502</td>\n",
              "      <td>31/12/2018 22:00</td>\n",
              "    </tr>\n",
              "    <tr>\n",
              "      <th>3503</th>\n",
              "      <td>3503</td>\n",
              "      <td>31/12/2018 23:00</td>\n",
              "    </tr>\n",
              "  </tbody>\n",
              "</table>\n",
              "<p>3504 rows × 2 columns</p>\n",
              "</div>"
            ],
            "text/plain": [
              "        id              date\n",
              "0        0     1/1/2018 2:00\n",
              "1        1     1/1/2018 5:00\n",
              "2        2     1/1/2018 7:00\n",
              "3        3     1/1/2018 8:00\n",
              "4        4    1/1/2018 10:00\n",
              "...    ...               ...\n",
              "3499  3499  31/12/2018 17:00\n",
              "3500  3500  31/12/2018 19:00\n",
              "3501  3501  31/12/2018 21:00\n",
              "3502  3502  31/12/2018 22:00\n",
              "3503  3503  31/12/2018 23:00\n",
              "\n",
              "[3504 rows x 2 columns]"
            ]
          },
          "metadata": {
            "tags": []
          },
          "execution_count": 64
        }
      ]
    },
    {
      "cell_type": "code",
      "metadata": {
        "id": "lhTcc1AshigW"
      },
      "source": [
        "testDataframe['date']=pd.to_datetime(testDataframe['date'])\n",
        "# convert string to date type"
      ],
      "execution_count": null,
      "outputs": []
    },
    {
      "cell_type": "code",
      "metadata": {
        "id": "FLgV2hHqhSyX"
      },
      "source": [
        "testDataframe['year']=testDataframe.date.dt.year\n",
        "testDataframe['month']=testDataframe.date.dt.month\n",
        "testDataframe['day']=testDataframe.date.dt.day\n",
        "testDataframe['weekday']=testDataframe.date.dt.weekday\n",
        "testDataframe['hour']=testDataframe.date.dt.hour\n",
        "features=[\"year\",\"month\"\"day\",\"weekday\",\"hour\"]"
      ],
      "execution_count": null,
      "outputs": []
    },
    {
      "cell_type": "code",
      "metadata": {
        "id": "5nWuP1wfh1Pg",
        "colab": {
          "base_uri": "https://localhost:8080/"
        },
        "outputId": "ddd671b0-5bce-4b46-ff6d-95c5c5e79b5c"
      },
      "source": [
        "a=reg1.predict(testDataframe[[\"year\",\"month\",\"day\",\"weekday\",\"hour\"]])"
      ],
      "execution_count": null,
      "outputs": [
        {
          "output_type": "execute_result",
          "data": {
            "text/plain": [
              "array([39.03147344, 36.7385011 , 35.20985287, ..., 22.4138456 ,\n",
              "       21.64952149, 20.88519737])"
            ]
          },
          "metadata": {
            "tags": []
          },
          "execution_count": 70
        }
      ]
    },
    {
      "cell_type": "code",
      "metadata": {
        "id": "LcwW4O__h4XK"
      },
      "source": [
        "b=reg2.predict(testDataframe[[\"year\",\"month\",\"day\",\"weekday\",\"hour\"]]) #result"
      ],
      "execution_count": null,
      "outputs": []
    },
    {
      "cell_type": "code",
      "metadata": {
        "id": "BbXKiIbwf58f",
        "colab": {
          "base_uri": "https://localhost:8080/",
          "height": 413
        },
        "outputId": "063c931a-dd80-4668-9123-b1193a2cba4c"
      },
      "source": [
        "df = pd.DataFrame({'id':testDataframe[\"id\"],\n",
        "                   'speed':b})                 \n",
        "df"
      ],
      "execution_count": null,
      "outputs": [
        {
          "output_type": "execute_result",
          "data": {
            "text/html": [
              "<div>\n",
              "<style scoped>\n",
              "    .dataframe tbody tr th:only-of-type {\n",
              "        vertical-align: middle;\n",
              "    }\n",
              "\n",
              "    .dataframe tbody tr th {\n",
              "        vertical-align: top;\n",
              "    }\n",
              "\n",
              "    .dataframe thead th {\n",
              "        text-align: right;\n",
              "    }\n",
              "</style>\n",
              "<table border=\"1\" class=\"dataframe\">\n",
              "  <thead>\n",
              "    <tr style=\"text-align: right;\">\n",
              "      <th></th>\n",
              "      <th>id</th>\n",
              "      <th>speed</th>\n",
              "    </tr>\n",
              "  </thead>\n",
              "  <tbody>\n",
              "    <tr>\n",
              "      <th>0</th>\n",
              "      <td>0</td>\n",
              "      <td>47.811574</td>\n",
              "    </tr>\n",
              "    <tr>\n",
              "      <th>1</th>\n",
              "      <td>1</td>\n",
              "      <td>47.019206</td>\n",
              "    </tr>\n",
              "    <tr>\n",
              "      <th>2</th>\n",
              "      <td>2</td>\n",
              "      <td>40.675707</td>\n",
              "    </tr>\n",
              "    <tr>\n",
              "      <th>3</th>\n",
              "      <td>3</td>\n",
              "      <td>29.219204</td>\n",
              "    </tr>\n",
              "    <tr>\n",
              "      <th>4</th>\n",
              "      <td>4</td>\n",
              "      <td>32.461732</td>\n",
              "    </tr>\n",
              "    <tr>\n",
              "      <th>...</th>\n",
              "      <td>...</td>\n",
              "      <td>...</td>\n",
              "    </tr>\n",
              "    <tr>\n",
              "      <th>3499</th>\n",
              "      <td>3499</td>\n",
              "      <td>12.820335</td>\n",
              "    </tr>\n",
              "    <tr>\n",
              "      <th>3500</th>\n",
              "      <td>3500</td>\n",
              "      <td>20.299854</td>\n",
              "    </tr>\n",
              "    <tr>\n",
              "      <th>3501</th>\n",
              "      <td>3501</td>\n",
              "      <td>40.542242</td>\n",
              "    </tr>\n",
              "    <tr>\n",
              "      <th>3502</th>\n",
              "      <td>3502</td>\n",
              "      <td>41.444872</td>\n",
              "    </tr>\n",
              "    <tr>\n",
              "      <th>3503</th>\n",
              "      <td>3503</td>\n",
              "      <td>40.397474</td>\n",
              "    </tr>\n",
              "  </tbody>\n",
              "</table>\n",
              "<p>3504 rows × 2 columns</p>\n",
              "</div>"
            ],
            "text/plain": [
              "        id      speed\n",
              "0        0  47.811574\n",
              "1        1  47.019206\n",
              "2        2  40.675707\n",
              "3        3  29.219204\n",
              "4        4  32.461732\n",
              "...    ...        ...\n",
              "3499  3499  12.820335\n",
              "3500  3500  20.299854\n",
              "3501  3501  40.542242\n",
              "3502  3502  41.444872\n",
              "3503  3503  40.397474\n",
              "\n",
              "[3504 rows x 2 columns]"
            ]
          },
          "metadata": {
            "tags": []
          },
          "execution_count": 78
        }
      ]
    },
    {
      "cell_type": "code",
      "metadata": {
        "id": "CwJT5DmwfBSs"
      },
      "source": [
        "df.to_csv(\"result.csv\")"
      ],
      "execution_count": null,
      "outputs": []
    },
    {
      "cell_type": "markdown",
      "metadata": {
        "id": "9WyTF5y29dVp"
      },
      "source": [
        "# 新增區段"
      ]
    }
  ]
}